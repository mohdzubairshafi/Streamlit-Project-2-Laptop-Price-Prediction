{
 "cells": [
  {
   "cell_type": "code",
   "execution_count": 1,
   "id": "e09ef7f1",
   "metadata": {},
   "outputs": [],
   "source": [
    "import pandas as pd\n",
    "import numpy as np"
   ]
  },
  {
   "cell_type": "code",
   "execution_count": 2,
   "id": "8c167e9b",
   "metadata": {},
   "outputs": [],
   "source": [
    "pd.options.display.max_colwidth=10000000"
   ]
  },
  {
   "cell_type": "code",
   "execution_count": 3,
   "id": "a74e0e0b",
   "metadata": {},
   "outputs": [
    {
     "data": {
      "text/html": [
       "<div>\n",
       "<style scoped>\n",
       "    .dataframe tbody tr th:only-of-type {\n",
       "        vertical-align: middle;\n",
       "    }\n",
       "\n",
       "    .dataframe tbody tr th {\n",
       "        vertical-align: top;\n",
       "    }\n",
       "\n",
       "    .dataframe thead th {\n",
       "        text-align: right;\n",
       "    }\n",
       "</style>\n",
       "<table border=\"1\" class=\"dataframe\">\n",
       "  <thead>\n",
       "    <tr style=\"text-align: right;\">\n",
       "      <th></th>\n",
       "      <th>Product</th>\n",
       "      <th>Rating</th>\n",
       "      <th>MRP</th>\n",
       "      <th>Feature</th>\n",
       "    </tr>\n",
       "  </thead>\n",
       "  <tbody>\n",
       "    <tr>\n",
       "      <th>0</th>\n",
       "      <td>Lenovo IdeaPad 3 Core i3 11th Gen - (8 GB/256 GB SSD/Windows 11 Home) 14ITL05 Thin and Light Laptop</td>\n",
       "      <td>4.2</td>\n",
       "      <td>₹36,990</td>\n",
       "      <td>Intel Core i3 Processor (11th Gen)8 GB DDR4 RAM64 bit Windows 11 Operating System256 GB SSD35.56 cm (14 inch) DisplayOffice Home and Student 20212 Year Onsite�Warranty</td>\n",
       "    </tr>\n",
       "    <tr>\n",
       "      <th>1</th>\n",
       "      <td>Lenovo IdeaPad 3 Core i3 11th Gen - (8 GB/512 GB SSD/Windows 11 Home) 82H801L7IN | 82H802FJIN | 82H802...</td>\n",
       "      <td>4.2</td>\n",
       "      <td>₹39,990</td>\n",
       "      <td>Intel Core i3 Processor (11th Gen)8 GB DDR4 RAM64 bit Windows 11 Operating System512 GB SSD39.62 cm (15.6 inch) DisplayOffice Home and Student 20212 Year Onsite�Warranty</td>\n",
       "    </tr>\n",
       "    <tr>\n",
       "      <th>2</th>\n",
       "      <td>ASUS VivoBook 15 (2022) Core i3 10th Gen - (8 GB/512 GB SSD/Windows 11 Home) X515JA-EJ362WS | X515JA-E...</td>\n",
       "      <td>4.3</td>\n",
       "      <td>₹32,990</td>\n",
       "      <td>Intel Core i3 Processor (10th Gen)8 GB DDR4 RAM64 bit Windows 11 Operating System512 GB SSD39.62 cm (15.6 inch) DisplayOffice Home and Student 20211 Year Onsite Warranty</td>\n",
       "    </tr>\n",
       "    <tr>\n",
       "      <th>3</th>\n",
       "      <td>HP Pavilion Ryzen 5 Hexa Core AMD R5-5600H - (8 GB/512 GB SSD/Windows 10/4 GB Graphics/NVIDIA GeForce ...</td>\n",
       "      <td>4.4</td>\n",
       "      <td>₹49,990</td>\n",
       "      <td>AMD Ryzen 5 Hexa Core Processor8 GB DDR4 RAM64 bit Windows 10 Operating System512 GB SSD39.62 cm (15.6 inch) DisplayHP Documentation, HP e-service, HP BIOS Recovery, HP SSRM, HP Smart, HP Jumpstarts1 Year Onsite Warranty</td>\n",
       "    </tr>\n",
       "    <tr>\n",
       "      <th>4</th>\n",
       "      <td>ASUS TUF Gaming F15 Core i5 10th Gen - (8 GB/512 GB SSD/Windows 11 Home/4 GB Graphics/NVIDIA GeForce G...</td>\n",
       "      <td>4.4</td>\n",
       "      <td>₹49,990</td>\n",
       "      <td>Intel Core i5 Processor (10th Gen)8 GB DDR4 RAMWindows 11 Operating System512 GB SSD39.62 cm (15.6 inch) Display1 Year Onsite Warranty</td>\n",
       "    </tr>\n",
       "  </tbody>\n",
       "</table>\n",
       "</div>"
      ],
      "text/plain": [
       "                                                                                                     Product  \\\n",
       "0        Lenovo IdeaPad 3 Core i3 11th Gen - (8 GB/256 GB SSD/Windows 11 Home) 14ITL05 Thin and Light Laptop   \n",
       "1  Lenovo IdeaPad 3 Core i3 11th Gen - (8 GB/512 GB SSD/Windows 11 Home) 82H801L7IN | 82H802FJIN | 82H802...   \n",
       "2  ASUS VivoBook 15 (2022) Core i3 10th Gen - (8 GB/512 GB SSD/Windows 11 Home) X515JA-EJ362WS | X515JA-E...   \n",
       "3  HP Pavilion Ryzen 5 Hexa Core AMD R5-5600H - (8 GB/512 GB SSD/Windows 10/4 GB Graphics/NVIDIA GeForce ...   \n",
       "4  ASUS TUF Gaming F15 Core i5 10th Gen - (8 GB/512 GB SSD/Windows 11 Home/4 GB Graphics/NVIDIA GeForce G...   \n",
       "\n",
       "   Rating      MRP  \\\n",
       "0     4.2  ₹36,990   \n",
       "1     4.2  ₹39,990   \n",
       "2     4.3  ₹32,990   \n",
       "3     4.4  ₹49,990   \n",
       "4     4.4  ₹49,990   \n",
       "\n",
       "                                                                                                                                                                                                                        Feature  \n",
       "0                                                       Intel Core i3 Processor (11th Gen)8 GB DDR4 RAM64 bit Windows 11 Operating System256 GB SSD35.56 cm (14 inch) DisplayOffice Home and Student 20212 Year Onsite�Warranty  \n",
       "1                                                     Intel Core i3 Processor (11th Gen)8 GB DDR4 RAM64 bit Windows 11 Operating System512 GB SSD39.62 cm (15.6 inch) DisplayOffice Home and Student 20212 Year Onsite�Warranty  \n",
       "2                                                     Intel Core i3 Processor (10th Gen)8 GB DDR4 RAM64 bit Windows 11 Operating System512 GB SSD39.62 cm (15.6 inch) DisplayOffice Home and Student 20211 Year Onsite Warranty  \n",
       "3  AMD Ryzen 5 Hexa Core Processor8 GB DDR4 RAM64 bit Windows 10 Operating System512 GB SSD39.62 cm (15.6 inch) DisplayHP Documentation, HP e-service, HP BIOS Recovery, HP SSRM, HP Smart, HP Jumpstarts1 Year Onsite Warranty  \n",
       "4                                                                                        Intel Core i5 Processor (10th Gen)8 GB DDR4 RAMWindows 11 Operating System512 GB SSD39.62 cm (15.6 inch) Display1 Year Onsite Warranty  "
      ]
     },
     "execution_count": 3,
     "metadata": {},
     "output_type": "execute_result"
    }
   ],
   "source": [
    "df_orignal=pd.read_csv('./laptop_details.csv')\n",
    "df=df_orignal.copy()\n",
    "df.head()"
   ]
  },
  {
   "cell_type": "code",
   "execution_count": 4,
   "id": "ec37af32",
   "metadata": {},
   "outputs": [
    {
     "data": {
      "text/plain": [
       "(720, 4)"
      ]
     },
     "execution_count": 4,
     "metadata": {},
     "output_type": "execute_result"
    }
   ],
   "source": [
    "df.shape"
   ]
  },
  {
   "cell_type": "code",
   "execution_count": 5,
   "id": "d4e05787",
   "metadata": {},
   "outputs": [
    {
     "name": "stdout",
     "output_type": "stream",
     "text": [
      "<class 'pandas.core.frame.DataFrame'>\n",
      "RangeIndex: 720 entries, 0 to 719\n",
      "Data columns (total 4 columns):\n",
      " #   Column   Non-Null Count  Dtype  \n",
      "---  ------   --------------  -----  \n",
      " 0   Product  720 non-null    object \n",
      " 1   Rating   581 non-null    float64\n",
      " 2   MRP      720 non-null    object \n",
      " 3   Feature  720 non-null    object \n",
      "dtypes: float64(1), object(3)\n",
      "memory usage: 22.6+ KB\n"
     ]
    }
   ],
   "source": [
    "df.info()"
   ]
  },
  {
   "cell_type": "code",
   "execution_count": 6,
   "id": "74a50297",
   "metadata": {},
   "outputs": [
    {
     "data": {
      "text/plain": [
       "Index(['Product', 'Rating', 'MRP', 'Feature'], dtype='object')"
      ]
     },
     "execution_count": 6,
     "metadata": {},
     "output_type": "execute_result"
    }
   ],
   "source": [
    "df.columns"
   ]
  },
  {
   "cell_type": "code",
   "execution_count": 7,
   "id": "2379e49b",
   "metadata": {},
   "outputs": [],
   "source": [
    "# changing MRP Dtype \n",
    "df['MRP'] = df['MRP'].astype(str).str.replace('[\\₹,]', '', regex=True).astype(int)\n",
    "# df['MRP']"
   ]
  },
  {
   "cell_type": "code",
   "execution_count": 8,
   "id": "5c4fa5ea",
   "metadata": {},
   "outputs": [],
   "source": [
    "#geting company name\n",
    "df['Company']=df.Product.str.split(' ').str[0]\n",
    "df['Company'] = df['Company'].astype(str)\n",
    "# df['Company']\n",
    "# df['Company'].value_counts()"
   ]
  },
  {
   "cell_type": "code",
   "execution_count": 9,
   "id": "b47485cd",
   "metadata": {},
   "outputs": [],
   "source": [
    "import re"
   ]
  },
  {
   "cell_type": "code",
   "execution_count": 10,
   "id": "7bf9c70f",
   "metadata": {},
   "outputs": [],
   "source": [
    "# generating useful column from freature"
   ]
  },
  {
   "cell_type": "code",
   "execution_count": 11,
   "id": "89564054",
   "metadata": {},
   "outputs": [
    {
     "data": {
      "text/plain": [
       "array(['Intel', 'AMD', '', 'Apple', 'Qualcomm'], dtype=object)"
      ]
     },
     "execution_count": 11,
     "metadata": {},
     "output_type": "execute_result"
    }
   ],
   "source": [
    "# Processor\n",
    "regex = r'^(AMD|Intel|M1|Apple|Qualcomm)\\s+[\\w\\s]*Processor'\n",
    "df['Processor Type']=df['Feature'].apply(lambda x : re.findall(regex, x))\n",
    "df['Processor Type']=df['Processor Type'].apply(lambda x : ''.join(x))\n",
    "df['Processor Type'].unique()"
   ]
  },
  {
   "cell_type": "code",
   "execution_count": 12,
   "id": "aec3983c",
   "metadata": {},
   "outputs": [
    {
     "name": "stdout",
     "output_type": "stream",
     "text": [
      "Intel       366\n",
      "AMD         303\n",
      "             31\n",
      "Apple        19\n",
      "Qualcomm      1\n",
      "Name: Processor Type, dtype: int64\n"
     ]
    }
   ],
   "source": [
    "processor_counts = df['Processor Type'].value_counts()\n",
    "print(processor_counts)\n"
   ]
  },
  {
   "cell_type": "code",
   "execution_count": 13,
   "id": "2a94e160",
   "metadata": {},
   "outputs": [
    {
     "data": {
      "text/plain": [
       "Intel       366\n",
       "AMD         303\n",
       "Apple        19\n",
       "Qualcomm      1\n",
       "Name: Processor Type, dtype: int64"
      ]
     },
     "execution_count": 13,
     "metadata": {},
     "output_type": "execute_result"
    }
   ],
   "source": [
    "# droping \"\" or unknown values\n",
    "df = df.drop(df[df['Processor Type'] == ''].index)\n",
    "df['Processor Type'].value_counts()\n"
   ]
  },
  {
   "cell_type": "code",
   "execution_count": 14,
   "id": "ec7eb01e",
   "metadata": {},
   "outputs": [
    {
     "data": {
      "text/plain": [
       "array(['Windows 11', 'Windows 10', 'Mac OS', 'DOS', 'Chrome'],\n",
       "      dtype=object)"
      ]
     },
     "execution_count": 14,
     "metadata": {},
     "output_type": "execute_result"
    }
   ],
   "source": [
    "# Operating System\n",
    "regex = r'(Windows\\s+\\d+|Mac\\s+OS|Chrome|DOS)\\s+Operating System'\n",
    "\n",
    "df['Operating System']=df['Feature'].apply(lambda x : re.findall(regex, x))\n",
    "df['Operating System']=df['Operating System'].apply(lambda x : ''.join(x))\n",
    "df['Operating System']=df['Operating System'].apply(lambda x: x.replace(\" Operating System\", \"\"))\n",
    "df['Operating System'].unique()"
   ]
  },
  {
   "cell_type": "code",
   "execution_count": 15,
   "id": "0634bcfe",
   "metadata": {},
   "outputs": [
    {
     "data": {
      "text/plain": [
       "array(['8 GB DDR4 RAM', '16 GB DDR4 RAM', '16 GB DDR5 RAM',\n",
       "       '4 GB LPDDR4 RAM', '4 GB DDR4 RAM', '8 GB Unified Memory RAM',\n",
       "       '8 GB LPDDR4X RAM', '16 GB Unified Memory RAM', '4 GB LPDDR4X RAM',\n",
       "       '16 GB LPDDR4X RAM', '16 GB LPDDR5 RAM',\n",
       "       '32 GB Unified Memory RAM', '16 GB LPDDR4 RAM', '32 GB DDR5 RAM',\n",
       "       '8 GB DDR5 RAM', '32 GB DDR4 RAM', '32 GB LPDDR4X RAM',\n",
       "       '16 GB LPDDR3 RAM'], dtype=object)"
      ]
     },
     "execution_count": 15,
     "metadata": {},
     "output_type": "execute_result"
    }
   ],
   "source": [
    "#RAM\n",
    "regex = r'\\d+\\sGB[\\s\\w]+RAM'\n",
    "df['RAM'] = df['Feature'].apply(lambda x : re.findall(regex, x))\n",
    "df.RAM = df.RAM.apply(lambda x : ''.join(x))\n",
    "df['RAM'].unique()"
   ]
  },
  {
   "cell_type": "code",
   "execution_count": 16,
   "id": "7face764",
   "metadata": {},
   "outputs": [
    {
     "data": {
      "text/plain": [
       "array(['8 GB DDR4 RAM', '16 GB DDR4 RAM', '16 GB DDR5 RAM',\n",
       "       '4 GB LPDDR4 RAM', '4 GB DDR4 RAM', '8 GB Unified RAM',\n",
       "       '8 GB LPDDR4X RAM', '16 GB Unified RAM', '4 GB LPDDR4X RAM',\n",
       "       '16 GB LPDDR4X RAM', '16 GB LPDDR5 RAM', '32 GB Unified RAM',\n",
       "       '16 GB LPDDR4 RAM', '32 GB DDR5 RAM', '8 GB DDR5 RAM',\n",
       "       '32 GB DDR4 RAM', '32 GB LPDDR4X RAM', '16 GB LPDDR3 RAM'],\n",
       "      dtype=object)"
      ]
     },
     "execution_count": 16,
     "metadata": {},
     "output_type": "execute_result"
    }
   ],
   "source": [
    "# Cleaning RAM \n",
    "df['RAM']=df['RAM'].apply(lambda x: x.replace(\"128 GB SSD for Reduced Boot Up Time and in Game LoadingUpgradable SSD Upto 512 GB and RAM8 GB DDR4 RAM\",\"8 GB DDR4 RAM\"))\n",
    "df['RAM']=df['RAM'].apply(lambda x: x.replace(\"Unified Memory\",\"Unified\"))\n",
    "df['RAM'].unique()"
   ]
  },
  {
   "cell_type": "code",
   "execution_count": 17,
   "id": "f7d8a74b",
   "metadata": {},
   "outputs": [],
   "source": [
    "# Generating RAM SIZE AND TYPE \n",
    "df[['RAM Size','GB', 'RAM Type', 'RAM1']]=df['RAM'].str.split(' ', expand=True)\n",
    "df.drop(['GB','RAM1','RAM'], axis=1, inplace=True)\n",
    "df['RAM Size']=df['RAM Size']+\"GB\"\n"
   ]
  },
  {
   "cell_type": "code",
   "execution_count": 18,
   "id": "949ada7f",
   "metadata": {},
   "outputs": [
    {
     "data": {
      "text/plain": [
       "array(['8GB', '16GB', '4GB', '32GB'], dtype=object)"
      ]
     },
     "execution_count": 18,
     "metadata": {},
     "output_type": "execute_result"
    }
   ],
   "source": [
    "df['RAM Size'].unique()"
   ]
  },
  {
   "cell_type": "code",
   "execution_count": 19,
   "id": "2edadfc7",
   "metadata": {},
   "outputs": [
    {
     "data": {
      "text/plain": [
       "array(['DDR4', 'DDR5', 'LPDDR4', 'Unified', 'LPDDR4X', 'LPDDR5', 'LPDDR3'],\n",
       "      dtype=object)"
      ]
     },
     "execution_count": 19,
     "metadata": {},
     "output_type": "execute_result"
    }
   ],
   "source": [
    "df['RAM Type'].unique()"
   ]
  },
  {
   "cell_type": "code",
   "execution_count": 20,
   "id": "f76569ce",
   "metadata": {},
   "outputs": [
    {
     "data": {
      "text/plain": [
       "array(['256 GB SSD', '512 GB SSD', '1 TB SSD', '1 TB HDD256 GB SSD',\n",
       "       '256 GB HDD256 GB SSD', '', '128 GB SSD', '1 TB HDD',\n",
       "       '1 TB HDD512 GB SSD', '2 TB SSD'], dtype=object)"
      ]
     },
     "execution_count": 20,
     "metadata": {},
     "output_type": "execute_result"
    }
   ],
   "source": [
    "# Storage\n",
    "regex = r'[\\d]+\\s(?:GB|TB)\\s(?:HDD|SSD)' \n",
    "\n",
    "df['Storage']=df['Feature'].apply(lambda x : re.findall(regex, x))\n",
    "df['Storage']=df['Storage'].apply(lambda x : ''.join(x))\n",
    "df['Storage'].unique()"
   ]
  },
  {
   "cell_type": "code",
   "execution_count": 21,
   "id": "71a1a285",
   "metadata": {},
   "outputs": [
    {
     "data": {
      "text/plain": [
       "512 GB SSD              361\n",
       "1 TB SSD                172\n",
       "256 GB SSD               94\n",
       "1 TB HDD256 GB SSD       22\n",
       "1 TB HDD                 14\n",
       "                         10\n",
       "2 TB SSD                  7\n",
       "128 GB SSD                6\n",
       "1 TB HDD512 GB SSD        2\n",
       "256 GB HDD256 GB SSD      1\n",
       "Name: Storage, dtype: int64"
      ]
     },
     "execution_count": 21,
     "metadata": {},
     "output_type": "execute_result"
    }
   ],
   "source": [
    "df['Storage'].value_counts()"
   ]
  },
  {
   "cell_type": "code",
   "execution_count": 22,
   "id": "4110acf2",
   "metadata": {},
   "outputs": [
    {
     "data": {
      "text/plain": [
       "512 GB SSD              361\n",
       "1 TB SSD                172\n",
       "256 GB SSD               94\n",
       "1 TB HDD256 GB SSD       22\n",
       "1 TB HDD                 14\n",
       "2 TB SSD                  7\n",
       "128 GB SSD                6\n",
       "1 TB HDD512 GB SSD        2\n",
       "256 GB HDD256 GB SSD      1\n",
       "Name: Storage, dtype: int64"
      ]
     },
     "execution_count": 22,
     "metadata": {},
     "output_type": "execute_result"
    }
   ],
   "source": [
    "#droping \"\" unknown Value \n",
    "df = df.drop(df[df['Storage']==''].index)\n",
    "df['Storage'].value_counts()\n"
   ]
  },
  {
   "cell_type": "code",
   "execution_count": 23,
   "id": "2dbedec8",
   "metadata": {},
   "outputs": [],
   "source": [
    "# Treating Storage\n",
    "df['Storage'].replace({'256 GB SSD':'256GB SSD'}, inplace=True)\n",
    "df['Storage'].replace({'512 GB SSD':'512GB SSD'}, inplace=True)\n",
    "df['Storage'].replace({'1 TB SSD':'1TB SSD'}, inplace=True)\n",
    "df['Storage'].replace({'1 TB HDD':'1TB HDD'}, inplace=True)\n",
    "df['Storage'].replace({'128 GB SSD':'128GB SSD'}, inplace=True)\n",
    "df['Storage'].replace({'2 TB SSD':'2TB SSD'}, inplace=True)\n",
    "df['Storage'].replace({'1 TB HDD256 GB SSD':'1TB HDD'}, inplace=True)\n",
    "df['Storage'].replace({'256 GB HDD256 GB SSD':'256GB HDD'}, inplace=True)\n",
    "df['Storage'].replace({'1 TB HDD512 GB SSD':'1TB HDD'}, inplace=True)\n",
    "df['Storage'].replace({'128 GB SSD1 TB HDD128 GB SSD':'1TB HDD'}, inplace=True)"
   ]
  },
  {
   "cell_type": "code",
   "execution_count": 24,
   "id": "db5827dc",
   "metadata": {},
   "outputs": [],
   "source": [
    "# Generating Disk size and type from storage\n",
    "df[['Disc Size','Disc Type']]=df['Storage'].str.split(' ', expand=True)\n",
    "df.drop(['Storage'], axis=1, inplace=True)\n"
   ]
  },
  {
   "cell_type": "code",
   "execution_count": 25,
   "id": "a8a7bb93",
   "metadata": {},
   "outputs": [
    {
     "data": {
      "text/html": [
       "<div>\n",
       "<style scoped>\n",
       "    .dataframe tbody tr th:only-of-type {\n",
       "        vertical-align: middle;\n",
       "    }\n",
       "\n",
       "    .dataframe tbody tr th {\n",
       "        vertical-align: top;\n",
       "    }\n",
       "\n",
       "    .dataframe thead th {\n",
       "        text-align: right;\n",
       "    }\n",
       "</style>\n",
       "<table border=\"1\" class=\"dataframe\">\n",
       "  <thead>\n",
       "    <tr style=\"text-align: right;\">\n",
       "      <th></th>\n",
       "      <th>Product</th>\n",
       "      <th>Rating</th>\n",
       "      <th>MRP</th>\n",
       "      <th>Feature</th>\n",
       "      <th>Company</th>\n",
       "      <th>Processor Type</th>\n",
       "      <th>Operating System</th>\n",
       "      <th>RAM Size</th>\n",
       "      <th>RAM Type</th>\n",
       "      <th>Disc Size</th>\n",
       "      <th>Disc Type</th>\n",
       "    </tr>\n",
       "  </thead>\n",
       "  <tbody>\n",
       "    <tr>\n",
       "      <th>0</th>\n",
       "      <td>Lenovo IdeaPad 3 Core i3 11th Gen - (8 GB/256 GB SSD/Windows 11 Home) 14ITL05 Thin and Light Laptop</td>\n",
       "      <td>4.2</td>\n",
       "      <td>36990</td>\n",
       "      <td>Intel Core i3 Processor (11th Gen)8 GB DDR4 RAM64 bit Windows 11 Operating System256 GB SSD35.56 cm (14 inch) DisplayOffice Home and Student 20212 Year Onsite�Warranty</td>\n",
       "      <td>Lenovo</td>\n",
       "      <td>Intel</td>\n",
       "      <td>Windows 11</td>\n",
       "      <td>8GB</td>\n",
       "      <td>DDR4</td>\n",
       "      <td>256GB</td>\n",
       "      <td>SSD</td>\n",
       "    </tr>\n",
       "    <tr>\n",
       "      <th>1</th>\n",
       "      <td>Lenovo IdeaPad 3 Core i3 11th Gen - (8 GB/512 GB SSD/Windows 11 Home) 82H801L7IN | 82H802FJIN | 82H802...</td>\n",
       "      <td>4.2</td>\n",
       "      <td>39990</td>\n",
       "      <td>Intel Core i3 Processor (11th Gen)8 GB DDR4 RAM64 bit Windows 11 Operating System512 GB SSD39.62 cm (15.6 inch) DisplayOffice Home and Student 20212 Year Onsite�Warranty</td>\n",
       "      <td>Lenovo</td>\n",
       "      <td>Intel</td>\n",
       "      <td>Windows 11</td>\n",
       "      <td>8GB</td>\n",
       "      <td>DDR4</td>\n",
       "      <td>512GB</td>\n",
       "      <td>SSD</td>\n",
       "    </tr>\n",
       "    <tr>\n",
       "      <th>2</th>\n",
       "      <td>ASUS VivoBook 15 (2022) Core i3 10th Gen - (8 GB/512 GB SSD/Windows 11 Home) X515JA-EJ362WS | X515JA-E...</td>\n",
       "      <td>4.3</td>\n",
       "      <td>32990</td>\n",
       "      <td>Intel Core i3 Processor (10th Gen)8 GB DDR4 RAM64 bit Windows 11 Operating System512 GB SSD39.62 cm (15.6 inch) DisplayOffice Home and Student 20211 Year Onsite Warranty</td>\n",
       "      <td>ASUS</td>\n",
       "      <td>Intel</td>\n",
       "      <td>Windows 11</td>\n",
       "      <td>8GB</td>\n",
       "      <td>DDR4</td>\n",
       "      <td>512GB</td>\n",
       "      <td>SSD</td>\n",
       "    </tr>\n",
       "    <tr>\n",
       "      <th>3</th>\n",
       "      <td>HP Pavilion Ryzen 5 Hexa Core AMD R5-5600H - (8 GB/512 GB SSD/Windows 10/4 GB Graphics/NVIDIA GeForce ...</td>\n",
       "      <td>4.4</td>\n",
       "      <td>49990</td>\n",
       "      <td>AMD Ryzen 5 Hexa Core Processor8 GB DDR4 RAM64 bit Windows 10 Operating System512 GB SSD39.62 cm (15.6 inch) DisplayHP Documentation, HP e-service, HP BIOS Recovery, HP SSRM, HP Smart, HP Jumpstarts1 Year Onsite Warranty</td>\n",
       "      <td>HP</td>\n",
       "      <td>AMD</td>\n",
       "      <td>Windows 10</td>\n",
       "      <td>8GB</td>\n",
       "      <td>DDR4</td>\n",
       "      <td>512GB</td>\n",
       "      <td>SSD</td>\n",
       "    </tr>\n",
       "    <tr>\n",
       "      <th>4</th>\n",
       "      <td>ASUS TUF Gaming F15 Core i5 10th Gen - (8 GB/512 GB SSD/Windows 11 Home/4 GB Graphics/NVIDIA GeForce G...</td>\n",
       "      <td>4.4</td>\n",
       "      <td>49990</td>\n",
       "      <td>Intel Core i5 Processor (10th Gen)8 GB DDR4 RAMWindows 11 Operating System512 GB SSD39.62 cm (15.6 inch) Display1 Year Onsite Warranty</td>\n",
       "      <td>ASUS</td>\n",
       "      <td>Intel</td>\n",
       "      <td>Windows 11</td>\n",
       "      <td>8GB</td>\n",
       "      <td>DDR4</td>\n",
       "      <td>512GB</td>\n",
       "      <td>SSD</td>\n",
       "    </tr>\n",
       "  </tbody>\n",
       "</table>\n",
       "</div>"
      ],
      "text/plain": [
       "                                                                                                     Product  \\\n",
       "0        Lenovo IdeaPad 3 Core i3 11th Gen - (8 GB/256 GB SSD/Windows 11 Home) 14ITL05 Thin and Light Laptop   \n",
       "1  Lenovo IdeaPad 3 Core i3 11th Gen - (8 GB/512 GB SSD/Windows 11 Home) 82H801L7IN | 82H802FJIN | 82H802...   \n",
       "2  ASUS VivoBook 15 (2022) Core i3 10th Gen - (8 GB/512 GB SSD/Windows 11 Home) X515JA-EJ362WS | X515JA-E...   \n",
       "3  HP Pavilion Ryzen 5 Hexa Core AMD R5-5600H - (8 GB/512 GB SSD/Windows 10/4 GB Graphics/NVIDIA GeForce ...   \n",
       "4  ASUS TUF Gaming F15 Core i5 10th Gen - (8 GB/512 GB SSD/Windows 11 Home/4 GB Graphics/NVIDIA GeForce G...   \n",
       "\n",
       "   Rating    MRP  \\\n",
       "0     4.2  36990   \n",
       "1     4.2  39990   \n",
       "2     4.3  32990   \n",
       "3     4.4  49990   \n",
       "4     4.4  49990   \n",
       "\n",
       "                                                                                                                                                                                                                        Feature  \\\n",
       "0                                                       Intel Core i3 Processor (11th Gen)8 GB DDR4 RAM64 bit Windows 11 Operating System256 GB SSD35.56 cm (14 inch) DisplayOffice Home and Student 20212 Year Onsite�Warranty   \n",
       "1                                                     Intel Core i3 Processor (11th Gen)8 GB DDR4 RAM64 bit Windows 11 Operating System512 GB SSD39.62 cm (15.6 inch) DisplayOffice Home and Student 20212 Year Onsite�Warranty   \n",
       "2                                                     Intel Core i3 Processor (10th Gen)8 GB DDR4 RAM64 bit Windows 11 Operating System512 GB SSD39.62 cm (15.6 inch) DisplayOffice Home and Student 20211 Year Onsite Warranty   \n",
       "3  AMD Ryzen 5 Hexa Core Processor8 GB DDR4 RAM64 bit Windows 10 Operating System512 GB SSD39.62 cm (15.6 inch) DisplayHP Documentation, HP e-service, HP BIOS Recovery, HP SSRM, HP Smart, HP Jumpstarts1 Year Onsite Warranty   \n",
       "4                                                                                        Intel Core i5 Processor (10th Gen)8 GB DDR4 RAMWindows 11 Operating System512 GB SSD39.62 cm (15.6 inch) Display1 Year Onsite Warranty   \n",
       "\n",
       "  Company Processor Type Operating System RAM Size RAM Type Disc Size  \\\n",
       "0  Lenovo          Intel       Windows 11      8GB     DDR4     256GB   \n",
       "1  Lenovo          Intel       Windows 11      8GB     DDR4     512GB   \n",
       "2    ASUS          Intel       Windows 11      8GB     DDR4     512GB   \n",
       "3      HP            AMD       Windows 10      8GB     DDR4     512GB   \n",
       "4    ASUS          Intel       Windows 11      8GB     DDR4     512GB   \n",
       "\n",
       "  Disc Type  \n",
       "0       SSD  \n",
       "1       SSD  \n",
       "2       SSD  \n",
       "3       SSD  \n",
       "4       SSD  "
      ]
     },
     "execution_count": 25,
     "metadata": {},
     "output_type": "execute_result"
    }
   ],
   "source": [
    "# final Clean Data\n",
    "df.head()"
   ]
  },
  {
   "cell_type": "code",
   "execution_count": 26,
   "id": "d0e2d359",
   "metadata": {},
   "outputs": [
    {
     "data": {
      "text/plain": [
       "(679, 11)"
      ]
     },
     "execution_count": 26,
     "metadata": {},
     "output_type": "execute_result"
    }
   ],
   "source": [
    "df.shape"
   ]
  },
  {
   "cell_type": "code",
   "execution_count": 27,
   "id": "36632c74",
   "metadata": {},
   "outputs": [
    {
     "data": {
      "text/plain": [
       "(720, 4)"
      ]
     },
     "execution_count": 27,
     "metadata": {},
     "output_type": "execute_result"
    }
   ],
   "source": [
    "df_orignal.shape"
   ]
  },
  {
   "cell_type": "code",
   "execution_count": 28,
   "id": "a9af8ca4",
   "metadata": {},
   "outputs": [
    {
     "data": {
      "text/plain": [
       "Product               0\n",
       "Rating              137\n",
       "MRP                   0\n",
       "Feature               0\n",
       "Company               0\n",
       "Processor Type        0\n",
       "Operating System      0\n",
       "RAM Size              0\n",
       "RAM Type              0\n",
       "Disc Size             0\n",
       "Disc Type             0\n",
       "dtype: int64"
      ]
     },
     "execution_count": 28,
     "metadata": {},
     "output_type": "execute_result"
    }
   ],
   "source": [
    "df.isna().sum()"
   ]
  },
  {
   "cell_type": "code",
   "execution_count": 29,
   "id": "14343b68",
   "metadata": {},
   "outputs": [
    {
     "data": {
      "text/plain": [
       "0"
      ]
     },
     "execution_count": 29,
     "metadata": {},
     "output_type": "execute_result"
    }
   ],
   "source": [
    "df['Rating'].fillna(df['Rating'].median(), inplace=True)\n",
    "df.Rating.isna().sum()"
   ]
  },
  {
   "cell_type": "code",
   "execution_count": 30,
   "id": "55e52d5d",
   "metadata": {},
   "outputs": [
    {
     "data": {
      "text/plain": [
       "294"
      ]
     },
     "execution_count": 30,
     "metadata": {},
     "output_type": "execute_result"
    }
   ],
   "source": [
    "df.duplicated().sum()"
   ]
  },
  {
   "cell_type": "code",
   "execution_count": 31,
   "id": "19bb4c69",
   "metadata": {},
   "outputs": [
    {
     "data": {
      "text/plain": [
       "Product             0\n",
       "Rating              0\n",
       "MRP                 0\n",
       "Feature             0\n",
       "Company             0\n",
       "Processor Type      0\n",
       "Operating System    0\n",
       "RAM Size            0\n",
       "RAM Type            0\n",
       "Disc Size           0\n",
       "Disc Type           0\n",
       "dtype: int64"
      ]
     },
     "execution_count": 31,
     "metadata": {},
     "output_type": "execute_result"
    }
   ],
   "source": [
    "df.isnull().sum()"
   ]
  },
  {
   "cell_type": "code",
   "execution_count": 32,
   "id": "1e754b8d",
   "metadata": {},
   "outputs": [],
   "source": [
    "#Analysis Start"
   ]
  },
  {
   "cell_type": "code",
   "execution_count": 33,
   "id": "0c961a20",
   "metadata": {},
   "outputs": [],
   "source": [
    "#Analysis of MRP column"
   ]
  },
  {
   "cell_type": "code",
   "execution_count": 34,
   "id": "6d36a02c",
   "metadata": {},
   "outputs": [
    {
     "name": "stdout",
     "output_type": "stream",
     "text": [
      "Maximum 434830\n",
      "Minimum 15990\n",
      "Mean 82306.20324005891\n",
      "Median 59990.0\n",
      "Standard Deviation 61477.45249252308\n"
     ]
    }
   ],
   "source": [
    "print(\"Maximum\", df['MRP'].max())\n",
    "print(\"Minimum\", df['MRP'].min())\n",
    "print(\"Mean\", df['MRP'].mean())\n",
    "print(\"Median\", df['MRP'].median())\n",
    "print(\"Standard Deviation\", df['MRP'].std())"
   ]
  },
  {
   "cell_type": "code",
   "execution_count": 35,
   "id": "524b6da4",
   "metadata": {},
   "outputs": [
    {
     "data": {
      "text/plain": [
       "<Axes: >"
      ]
     },
     "execution_count": 35,
     "metadata": {},
     "output_type": "execute_result"
    },
    {
     "data": {
      "image/png": "[encoded data removed]",
      "text/plain": [
       "<Figure size 640x480 with 1 Axes>"
      ]
     },
     "metadata": {},
     "output_type": "display_data"
    }
   ],
   "source": [
    "df['MRP'].plot(kind='box')"
   ]
  },
  {
   "cell_type": "code",
   "execution_count": 36,
   "id": "0d94ef5c",
   "metadata": {},
   "outputs": [
    {
     "data": {
      "text/plain": [
       "<Axes: ylabel='Density'>"
      ]
     },
     "execution_count": 36,
     "metadata": {},
     "output_type": "execute_result"
    },
    {
     "data": {
      "image/png": "[encoded data removed]",
      "text/plain": [
       "<Figure size 640x480 with 1 Axes>"
      ]
     },
     "metadata": {},
     "output_type": "display_data"
    }
   ],
   "source": [
    "df['MRP'].plot(kind='kde')"
   ]
  },
  {
   "cell_type": "code",
   "execution_count": 37,
   "id": "9c7a35c7",
   "metadata": {},
   "outputs": [],
   "source": [
    "#data is skewed \n",
    "# There are some laptop prices which are far away from group of data,\n",
    "# Each data point is important so we will take transformation of this column."
   ]
  },
  {
   "cell_type": "code",
   "execution_count": 38,
   "id": "3a5c5040",
   "metadata": {},
   "outputs": [
    {
     "data": {
      "text/plain": [
       "<Axes: >"
      ]
     },
     "execution_count": 38,
     "metadata": {},
     "output_type": "execute_result"
    },
    {
     "data": {
      "image/png": "[encoded data removed]",
      "text/plain": [
       "<Figure size 640x480 with 1 Axes>"
      ]
     },
     "metadata": {},
     "output_type": "display_data"
    }
   ],
   "source": [
    "#analysis of Company \n",
    "df['Company'].value_counts().plot(kind='bar')"
   ]
  },
  {
   "cell_type": "code",
   "execution_count": 39,
   "id": "4674eb3c",
   "metadata": {},
   "outputs": [],
   "source": [
    "# Currently ASUS has most laptops in Market "
   ]
  },
  {
   "cell_type": "code",
   "execution_count": 40,
   "id": "20220524",
   "metadata": {},
   "outputs": [
    {
     "data": {
      "image/png": "[encoded data removed]",
      "text/plain": [
       "<Figure size 1500x500 with 1 Axes>"
      ]
     },
     "metadata": {},
     "output_type": "display_data"
    }
   ],
   "source": [
    "# let see average price of each laptop Company \n",
    "import seaborn as sns\n",
    "import matplotlib.pyplot as plt\n",
    "plt.figure(figsize=(15, 5))\n",
    "sns.boxplot(x='Company', y ='MRP', data=df);"
   ]
  },
  {
   "cell_type": "code",
   "execution_count": 41,
   "id": "4a40522e",
   "metadata": {},
   "outputs": [],
   "source": [
    "# on Average Apple Laptop is most expensive\n"
   ]
  },
  {
   "cell_type": "code",
   "execution_count": null,
   "id": "45a2dd02",
   "metadata": {},
   "outputs": [],
   "source": []
  },
  {
   "cell_type": "code",
   "execution_count": 42,
   "id": "771e8cd6",
   "metadata": {},
   "outputs": [
    {
     "name": "stdout",
     "output_type": "stream",
     "text": [
      "<class 'pandas.core.frame.DataFrame'>\n",
      "Int64Index: 679 entries, 0 to 719\n",
      "Data columns (total 11 columns):\n",
      " #   Column            Non-Null Count  Dtype  \n",
      "---  ------            --------------  -----  \n",
      " 0   Product           679 non-null    object \n",
      " 1   Rating            679 non-null    float64\n",
      " 2   MRP               679 non-null    int32  \n",
      " 3   Feature           679 non-null    object \n",
      " 4   Company           679 non-null    object \n",
      " 5   Processor Type    679 non-null    object \n",
      " 6   Operating System  679 non-null    object \n",
      " 7   RAM Size          679 non-null    object \n",
      " 8   RAM Type          679 non-null    object \n",
      " 9   Disc Size         679 non-null    object \n",
      " 10  Disc Type         679 non-null    object \n",
      "dtypes: float64(1), int32(1), object(9)\n",
      "memory usage: 61.0+ KB\n"
     ]
    }
   ],
   "source": [
    "df.info()"
   ]
  },
  {
   "cell_type": "code",
   "execution_count": 43,
   "id": "8481c206",
   "metadata": {},
   "outputs": [
    {
     "data": {
      "text/plain": [
       "Windows 11    546\n",
       "Windows 10    110\n",
       "Mac OS         19\n",
       "DOS             4\n",
       "Name: Operating System, dtype: int64"
      ]
     },
     "execution_count": 43,
     "metadata": {},
     "output_type": "execute_result"
    }
   ],
   "source": [
    "df['Operating System'].value_counts()"
   ]
  },
  {
   "cell_type": "code",
   "execution_count": 44,
   "id": "4100db81",
   "metadata": {},
   "outputs": [
    {
     "data": {
      "text/plain": [
       "<Axes: xlabel='Operating System', ylabel='MRP'>"
      ]
     },
     "execution_count": 44,
     "metadata": {},
     "output_type": "execute_result"
    },
    {
     "data": {
      "image/png": "[encoded data removed]",
      "text/plain": [
       "<Figure size 640x480 with 1 Axes>"
      ]
     },
     "metadata": {},
     "output_type": "display_data"
    }
   ],
   "source": [
    "sns.barplot(x=df['Operating System'],y=df['MRP'])"
   ]
  },
  {
   "cell_type": "code",
   "execution_count": 45,
   "id": "2417dfb2",
   "metadata": {},
   "outputs": [],
   "source": [
    "# mac os operation system is most exprensive"
   ]
  },
  {
   "cell_type": "code",
   "execution_count": 46,
   "id": "ead90784",
   "metadata": {},
   "outputs": [],
   "source": [
    "\n",
    "# Processor Type Vs Price"
   ]
  },
  {
   "cell_type": "code",
   "execution_count": 47,
   "id": "739b3160",
   "metadata": {},
   "outputs": [
    {
     "data": {
      "text/plain": [
       "Intel    357\n",
       "AMD      303\n",
       "Apple     19\n",
       "Name: Processor Type, dtype: int64"
      ]
     },
     "execution_count": 47,
     "metadata": {},
     "output_type": "execute_result"
    }
   ],
   "source": [
    "df['Processor Type'].value_counts()"
   ]
  },
  {
   "cell_type": "code",
   "execution_count": 48,
   "id": "fbd7f79a",
   "metadata": {},
   "outputs": [
    {
     "data": {
      "text/plain": [
       "<Axes: xlabel='Processor Type', ylabel='MRP'>"
      ]
     },
     "execution_count": 48,
     "metadata": {},
     "output_type": "execute_result"
    },
    {
     "data": {
      "image/png": "[encoded data removed]",
      "text/plain": [
       "<Figure size 640x480 with 1 Axes>"
      ]
     },
     "metadata": {},
     "output_type": "display_data"
    }
   ],
   "source": [
    "sns.barplot(x=df['Processor Type'],y=df['MRP'])"
   ]
  },
  {
   "cell_type": "code",
   "execution_count": 49,
   "id": "ad2be537",
   "metadata": {},
   "outputs": [],
   "source": [
    "# Apple Processor is most axpensive intel is least expensive"
   ]
  },
  {
   "cell_type": "markdown",
   "id": "c8e39d98",
   "metadata": {},
   "source": [
    "### Relation between RAM type and MRP"
   ]
  },
  {
   "cell_type": "code",
   "execution_count": 50,
   "id": "7eeccd15",
   "metadata": {},
   "outputs": [
    {
     "data": {
      "image/png": "[encoded data removed]",
      "text/plain": [
       "<Figure size 1500x500 with 1 Axes>"
      ]
     },
     "metadata": {},
     "output_type": "display_data"
    }
   ],
   "source": [
    "plt.figure(figsize=(15, 5))\n",
    "sns.barplot(x='RAM Type', y ='MRP', data=df);"
   ]
  },
  {
   "cell_type": "code",
   "execution_count": 51,
   "id": "8135895a",
   "metadata": {},
   "outputs": [],
   "source": [
    "# LPDDR3 RAM type is most expensive follow by DDR5 "
   ]
  },
  {
   "cell_type": "markdown",
   "id": "40a40c0a",
   "metadata": {},
   "source": [
    "### Relation between RAM size and MRP"
   ]
  },
  {
   "cell_type": "code",
   "execution_count": 52,
   "id": "739f77b2",
   "metadata": {},
   "outputs": [
    {
     "data": {
      "text/plain": [
       "<Axes: xlabel='RAM Size', ylabel='MRP'>"
      ]
     },
     "execution_count": 52,
     "metadata": {},
     "output_type": "execute_result"
    },
    {
     "data": {
      "image/png": "[encoded data removed]",
      "text/plain": [
       "<Figure size 1500x500 with 1 Axes>"
      ]
     },
     "metadata": {},
     "output_type": "display_data"
    }
   ],
   "source": [
    "plt.figure(figsize=(15, 5))\n",
    "sns.barplot(x='RAM Size', y ='MRP', data=df)"
   ]
  },
  {
   "cell_type": "markdown",
   "id": "60b58c1d",
   "metadata": {},
   "source": [
    "**Laptop Price are higher for high RAM.**"
   ]
  },
  {
   "cell_type": "code",
   "execution_count": null,
   "id": "ea4a2eae",
   "metadata": {},
   "outputs": [],
   "source": []
  },
  {
   "cell_type": "markdown",
   "id": "828d1c71",
   "metadata": {},
   "source": [
    "### Relation between Disc type and MRP"
   ]
  },
  {
   "cell_type": "code",
   "execution_count": 53,
   "id": "8d7b4d32",
   "metadata": {},
   "outputs": [
    {
     "data": {
      "image/png": "[encoded data removed]",
      "text/plain": [
       "<Figure size 1500x500 with 1 Axes>"
      ]
     },
     "metadata": {},
     "output_type": "display_data"
    }
   ],
   "source": [
    "plt.figure(figsize=(15, 5))\n",
    "sns.barplot(x='Disc Type', y ='MRP', data=df);"
   ]
  },
  {
   "cell_type": "code",
   "execution_count": 54,
   "id": "5993b645",
   "metadata": {},
   "outputs": [],
   "source": [
    "# SSD price is more compare to HDD"
   ]
  },
  {
   "cell_type": "markdown",
   "id": "38236f27",
   "metadata": {},
   "source": [
    "### Relation between Disc size"
   ]
  },
  {
   "cell_type": "code",
   "execution_count": 55,
   "id": "0097cb42",
   "metadata": {},
   "outputs": [
    {
     "data": {
      "image/png": "[encoded data removed]",
      "text/plain": [
       "<Figure size 1500x500 with 1 Axes>"
      ]
     },
     "metadata": {},
     "output_type": "display_data"
    }
   ],
   "source": [
    "plt.figure(figsize=(15, 5))\n",
    "sns.barplot(x='Disc Size', y ='MRP', data=df);"
   ]
  },
  {
   "cell_type": "code",
   "execution_count": 56,
   "id": "07468a3c",
   "metadata": {},
   "outputs": [],
   "source": [
    "# higher tha hard disk size higher the price"
   ]
  },
  {
   "cell_type": "markdown",
   "id": "a9bd6f11",
   "metadata": {},
   "source": [
    "# Summay of relationship between Laptop features and Laptop Price and How the Laptop Pricing works in market.\n",
    "\n",
    "## 1. Currently ASUS has most laptops in Market \n",
    "## 2. On Average Apple Laptop is most expensive\n",
    "## 3. Mac os operation system is most exprensive\n",
    "## 4. Apple Processor is most axpensive intel is least expensive\n",
    "## 5. SSD price is more compare to HDD\n",
    "## 6. higher tha hard disk size higher the price 2TB Disk Size is most expensive\n",
    "## 7. LPDDR3 RAM type is most expensive follow by DDR5 "
   ]
  },
  {
   "cell_type": "code",
   "execution_count": null,
   "id": "95de35b2",
   "metadata": {},
   "outputs": [],
   "source": []
  },
  {
   "cell_type": "markdown",
   "id": "4e93d56e",
   "metadata": {},
   "source": [
    "# Model Training"
   ]
  },
  {
   "cell_type": "code",
   "execution_count": 57,
   "id": "2d66804e",
   "metadata": {},
   "outputs": [
    {
     "data": {
      "text/plain": [
       "<seaborn.axisgrid.FacetGrid at 0x173a182d210>"
      ]
     },
     "execution_count": 57,
     "metadata": {},
     "output_type": "execute_result"
    },
    {
     "data": {
      "image/png": "[encoded data removed]",
      "text/plain": [
       "<Figure size 500x500 with 1 Axes>"
      ]
     },
     "metadata": {},
     "output_type": "display_data"
    }
   ],
   "source": [
    "sns.displot(np.log(df['MRP']))"
   ]
  },
  {
   "cell_type": "code",
   "execution_count": 58,
   "id": "4654bece",
   "metadata": {},
   "outputs": [],
   "source": [
    "X = df.drop(columns=[\"MRP\" ,\"Product\",\"Feature\",\"Rating\"])\n",
    "y= np.log(df['MRP'])"
   ]
  },
  {
   "cell_type": "code",
   "execution_count": 59,
   "id": "84bce9d3",
   "metadata": {},
   "outputs": [
    {
     "data": {
      "text/html": [
       "<div>\n",
       "<style scoped>\n",
       "    .dataframe tbody tr th:only-of-type {\n",
       "        vertical-align: middle;\n",
       "    }\n",
       "\n",
       "    .dataframe tbody tr th {\n",
       "        vertical-align: top;\n",
       "    }\n",
       "\n",
       "    .dataframe thead th {\n",
       "        text-align: right;\n",
       "    }\n",
       "</style>\n",
       "<table border=\"1\" class=\"dataframe\">\n",
       "  <thead>\n",
       "    <tr style=\"text-align: right;\">\n",
       "      <th></th>\n",
       "      <th>Company</th>\n",
       "      <th>Processor Type</th>\n",
       "      <th>Operating System</th>\n",
       "      <th>RAM Size</th>\n",
       "      <th>RAM Type</th>\n",
       "      <th>Disc Size</th>\n",
       "      <th>Disc Type</th>\n",
       "    </tr>\n",
       "  </thead>\n",
       "  <tbody>\n",
       "    <tr>\n",
       "      <th>0</th>\n",
       "      <td>Lenovo</td>\n",
       "      <td>Intel</td>\n",
       "      <td>Windows 11</td>\n",
       "      <td>8GB</td>\n",
       "      <td>DDR4</td>\n",
       "      <td>256GB</td>\n",
       "      <td>SSD</td>\n",
       "    </tr>\n",
       "    <tr>\n",
       "      <th>1</th>\n",
       "      <td>Lenovo</td>\n",
       "      <td>Intel</td>\n",
       "      <td>Windows 11</td>\n",
       "      <td>8GB</td>\n",
       "      <td>DDR4</td>\n",
       "      <td>512GB</td>\n",
       "      <td>SSD</td>\n",
       "    </tr>\n",
       "    <tr>\n",
       "      <th>2</th>\n",
       "      <td>ASUS</td>\n",
       "      <td>Intel</td>\n",
       "      <td>Windows 11</td>\n",
       "      <td>8GB</td>\n",
       "      <td>DDR4</td>\n",
       "      <td>512GB</td>\n",
       "      <td>SSD</td>\n",
       "    </tr>\n",
       "    <tr>\n",
       "      <th>3</th>\n",
       "      <td>HP</td>\n",
       "      <td>AMD</td>\n",
       "      <td>Windows 10</td>\n",
       "      <td>8GB</td>\n",
       "      <td>DDR4</td>\n",
       "      <td>512GB</td>\n",
       "      <td>SSD</td>\n",
       "    </tr>\n",
       "    <tr>\n",
       "      <th>4</th>\n",
       "      <td>ASUS</td>\n",
       "      <td>Intel</td>\n",
       "      <td>Windows 11</td>\n",
       "      <td>8GB</td>\n",
       "      <td>DDR4</td>\n",
       "      <td>512GB</td>\n",
       "      <td>SSD</td>\n",
       "    </tr>\n",
       "    <tr>\n",
       "      <th>...</th>\n",
       "      <td>...</td>\n",
       "      <td>...</td>\n",
       "      <td>...</td>\n",
       "      <td>...</td>\n",
       "      <td>...</td>\n",
       "      <td>...</td>\n",
       "      <td>...</td>\n",
       "    </tr>\n",
       "    <tr>\n",
       "      <th>714</th>\n",
       "      <td>HP</td>\n",
       "      <td>AMD</td>\n",
       "      <td>Windows 10</td>\n",
       "      <td>16GB</td>\n",
       "      <td>DDR4</td>\n",
       "      <td>512GB</td>\n",
       "      <td>SSD</td>\n",
       "    </tr>\n",
       "    <tr>\n",
       "      <th>716</th>\n",
       "      <td>Lenovo</td>\n",
       "      <td>AMD</td>\n",
       "      <td>Windows 11</td>\n",
       "      <td>8GB</td>\n",
       "      <td>DDR4</td>\n",
       "      <td>512GB</td>\n",
       "      <td>SSD</td>\n",
       "    </tr>\n",
       "    <tr>\n",
       "      <th>717</th>\n",
       "      <td>ASUS</td>\n",
       "      <td>AMD</td>\n",
       "      <td>Windows 11</td>\n",
       "      <td>16GB</td>\n",
       "      <td>DDR5</td>\n",
       "      <td>1TB</td>\n",
       "      <td>SSD</td>\n",
       "    </tr>\n",
       "    <tr>\n",
       "      <th>718</th>\n",
       "      <td>ASUS</td>\n",
       "      <td>Intel</td>\n",
       "      <td>Windows 11</td>\n",
       "      <td>16GB</td>\n",
       "      <td>LPDDR5</td>\n",
       "      <td>512GB</td>\n",
       "      <td>SSD</td>\n",
       "    </tr>\n",
       "    <tr>\n",
       "      <th>719</th>\n",
       "      <td>Lenovo</td>\n",
       "      <td>Intel</td>\n",
       "      <td>Windows 10</td>\n",
       "      <td>8GB</td>\n",
       "      <td>DDR4</td>\n",
       "      <td>1TB</td>\n",
       "      <td>HDD</td>\n",
       "    </tr>\n",
       "  </tbody>\n",
       "</table>\n",
       "<p>679 rows × 7 columns</p>\n",
       "</div>"
      ],
      "text/plain": [
       "    Company Processor Type Operating System RAM Size RAM Type Disc Size  \\\n",
       "0    Lenovo          Intel       Windows 11      8GB     DDR4     256GB   \n",
       "1    Lenovo          Intel       Windows 11      8GB     DDR4     512GB   \n",
       "2      ASUS          Intel       Windows 11      8GB     DDR4     512GB   \n",
       "3        HP            AMD       Windows 10      8GB     DDR4     512GB   \n",
       "4      ASUS          Intel       Windows 11      8GB     DDR4     512GB   \n",
       "..      ...            ...              ...      ...      ...       ...   \n",
       "714      HP            AMD       Windows 10     16GB     DDR4     512GB   \n",
       "716  Lenovo            AMD       Windows 11      8GB     DDR4     512GB   \n",
       "717    ASUS            AMD       Windows 11     16GB     DDR5       1TB   \n",
       "718    ASUS          Intel       Windows 11     16GB   LPDDR5     512GB   \n",
       "719  Lenovo          Intel       Windows 10      8GB     DDR4       1TB   \n",
       "\n",
       "    Disc Type  \n",
       "0         SSD  \n",
       "1         SSD  \n",
       "2         SSD  \n",
       "3         SSD  \n",
       "4         SSD  \n",
       "..        ...  \n",
       "714       SSD  \n",
       "716       SSD  \n",
       "717       SSD  \n",
       "718       SSD  \n",
       "719       HDD  \n",
       "\n",
       "[679 rows x 7 columns]"
      ]
     },
     "execution_count": 59,
     "metadata": {},
     "output_type": "execute_result"
    }
   ],
   "source": [
    "X"
   ]
  },
  {
   "cell_type": "code",
   "execution_count": 60,
   "id": "bdfa88a4",
   "metadata": {},
   "outputs": [
    {
     "data": {
      "text/plain": [
       "0      10.518403\n",
       "1      10.596385\n",
       "2      10.403960\n",
       "3      10.819578\n",
       "4      10.819578\n",
       "         ...    \n",
       "714    11.407565\n",
       "716    11.204905\n",
       "717    12.180704\n",
       "718    11.743958\n",
       "719    10.839385\n",
       "Name: MRP, Length: 679, dtype: float64"
      ]
     },
     "execution_count": 60,
     "metadata": {},
     "output_type": "execute_result"
    }
   ],
   "source": [
    "y"
   ]
  },
  {
   "cell_type": "code",
   "execution_count": 61,
   "id": "e51cfb6f",
   "metadata": {},
   "outputs": [],
   "source": [
    "from sklearn.model_selection import train_test_split\n",
    "X_train,X_test,y_train,y_test = train_test_split(X,y,test_size=0.15,random_state=2)"
   ]
  },
  {
   "cell_type": "code",
   "execution_count": 62,
   "id": "b8913e34",
   "metadata": {},
   "outputs": [
    {
     "data": {
      "text/html": [
       "<div>\n",
       "<style scoped>\n",
       "    .dataframe tbody tr th:only-of-type {\n",
       "        vertical-align: middle;\n",
       "    }\n",
       "\n",
       "    .dataframe tbody tr th {\n",
       "        vertical-align: top;\n",
       "    }\n",
       "\n",
       "    .dataframe thead th {\n",
       "        text-align: right;\n",
       "    }\n",
       "</style>\n",
       "<table border=\"1\" class=\"dataframe\">\n",
       "  <thead>\n",
       "    <tr style=\"text-align: right;\">\n",
       "      <th></th>\n",
       "      <th>Company</th>\n",
       "      <th>Processor Type</th>\n",
       "      <th>Operating System</th>\n",
       "      <th>RAM Size</th>\n",
       "      <th>RAM Type</th>\n",
       "      <th>Disc Size</th>\n",
       "      <th>Disc Type</th>\n",
       "    </tr>\n",
       "  </thead>\n",
       "  <tbody>\n",
       "    <tr>\n",
       "      <th>453</th>\n",
       "      <td>ASUS</td>\n",
       "      <td>Intel</td>\n",
       "      <td>Windows 11</td>\n",
       "      <td>16GB</td>\n",
       "      <td>DDR4</td>\n",
       "      <td>512GB</td>\n",
       "      <td>SSD</td>\n",
       "    </tr>\n",
       "    <tr>\n",
       "      <th>18</th>\n",
       "      <td>MSI</td>\n",
       "      <td>AMD</td>\n",
       "      <td>Windows 11</td>\n",
       "      <td>8GB</td>\n",
       "      <td>DDR4</td>\n",
       "      <td>512GB</td>\n",
       "      <td>SSD</td>\n",
       "    </tr>\n",
       "    <tr>\n",
       "      <th>237</th>\n",
       "      <td>Lenovo</td>\n",
       "      <td>AMD</td>\n",
       "      <td>Windows 11</td>\n",
       "      <td>8GB</td>\n",
       "      <td>DDR4</td>\n",
       "      <td>512GB</td>\n",
       "      <td>SSD</td>\n",
       "    </tr>\n",
       "    <tr>\n",
       "      <th>268</th>\n",
       "      <td>ASUS</td>\n",
       "      <td>AMD</td>\n",
       "      <td>Windows 11</td>\n",
       "      <td>16GB</td>\n",
       "      <td>DDR4</td>\n",
       "      <td>512GB</td>\n",
       "      <td>SSD</td>\n",
       "    </tr>\n",
       "    <tr>\n",
       "      <th>497</th>\n",
       "      <td>Lenovo</td>\n",
       "      <td>AMD</td>\n",
       "      <td>Windows 11</td>\n",
       "      <td>8GB</td>\n",
       "      <td>DDR4</td>\n",
       "      <td>512GB</td>\n",
       "      <td>SSD</td>\n",
       "    </tr>\n",
       "    <tr>\n",
       "      <th>...</th>\n",
       "      <td>...</td>\n",
       "      <td>...</td>\n",
       "      <td>...</td>\n",
       "      <td>...</td>\n",
       "      <td>...</td>\n",
       "      <td>...</td>\n",
       "      <td>...</td>\n",
       "    </tr>\n",
       "    <tr>\n",
       "      <th>564</th>\n",
       "      <td>MSI</td>\n",
       "      <td>Intel</td>\n",
       "      <td>Windows 11</td>\n",
       "      <td>16GB</td>\n",
       "      <td>DDR4</td>\n",
       "      <td>1TB</td>\n",
       "      <td>SSD</td>\n",
       "    </tr>\n",
       "    <tr>\n",
       "      <th>615</th>\n",
       "      <td>ASUS</td>\n",
       "      <td>AMD</td>\n",
       "      <td>Windows 11</td>\n",
       "      <td>16GB</td>\n",
       "      <td>DDR5</td>\n",
       "      <td>1TB</td>\n",
       "      <td>SSD</td>\n",
       "    </tr>\n",
       "    <tr>\n",
       "      <th>521</th>\n",
       "      <td>Lenovo</td>\n",
       "      <td>Intel</td>\n",
       "      <td>Windows 11</td>\n",
       "      <td>8GB</td>\n",
       "      <td>DDR4</td>\n",
       "      <td>512GB</td>\n",
       "      <td>SSD</td>\n",
       "    </tr>\n",
       "    <tr>\n",
       "      <th>556</th>\n",
       "      <td>Lenovo</td>\n",
       "      <td>Intel</td>\n",
       "      <td>Windows 11</td>\n",
       "      <td>8GB</td>\n",
       "      <td>DDR4</td>\n",
       "      <td>256GB</td>\n",
       "      <td>SSD</td>\n",
       "    </tr>\n",
       "    <tr>\n",
       "      <th>183</th>\n",
       "      <td>Infinix</td>\n",
       "      <td>Intel</td>\n",
       "      <td>Windows 11</td>\n",
       "      <td>4GB</td>\n",
       "      <td>LPDDR4X</td>\n",
       "      <td>128GB</td>\n",
       "      <td>SSD</td>\n",
       "    </tr>\n",
       "  </tbody>\n",
       "</table>\n",
       "<p>577 rows × 7 columns</p>\n",
       "</div>"
      ],
      "text/plain": [
       "     Company Processor Type Operating System RAM Size RAM Type Disc Size  \\\n",
       "453     ASUS          Intel       Windows 11     16GB     DDR4     512GB   \n",
       "18       MSI            AMD       Windows 11      8GB     DDR4     512GB   \n",
       "237   Lenovo            AMD       Windows 11      8GB     DDR4     512GB   \n",
       "268     ASUS            AMD       Windows 11     16GB     DDR4     512GB   \n",
       "497   Lenovo            AMD       Windows 11      8GB     DDR4     512GB   \n",
       "..       ...            ...              ...      ...      ...       ...   \n",
       "564      MSI          Intel       Windows 11     16GB     DDR4       1TB   \n",
       "615     ASUS            AMD       Windows 11     16GB     DDR5       1TB   \n",
       "521   Lenovo          Intel       Windows 11      8GB     DDR4     512GB   \n",
       "556   Lenovo          Intel       Windows 11      8GB     DDR4     256GB   \n",
       "183  Infinix          Intel       Windows 11      4GB  LPDDR4X     128GB   \n",
       "\n",
       "    Disc Type  \n",
       "453       SSD  \n",
       "18        SSD  \n",
       "237       SSD  \n",
       "268       SSD  \n",
       "497       SSD  \n",
       "..        ...  \n",
       "564       SSD  \n",
       "615       SSD  \n",
       "521       SSD  \n",
       "556       SSD  \n",
       "183       SSD  \n",
       "\n",
       "[577 rows x 7 columns]"
      ]
     },
     "execution_count": 62,
     "metadata": {},
     "output_type": "execute_result"
    }
   ],
   "source": [
    "X_train"
   ]
  },
  {
   "cell_type": "code",
   "execution_count": 63,
   "id": "85d1a1eb",
   "metadata": {},
   "outputs": [],
   "source": [
    "# !pip install --upgrade scikit-learn\n",
    "# import sklearn\n",
    "# print(sklearn.__version__) # version model previously train on is 1.2.2 "
   ]
  },
  {
   "cell_type": "code",
   "execution_count": 64,
   "id": "3146f2af",
   "metadata": {},
   "outputs": [],
   "source": [
    "from sklearn.compose import ColumnTransformer\n",
    "from sklearn.pipeline import Pipeline\n",
    "from sklearn.preprocessing import OneHotEncoder\n",
    "from sklearn.metrics import r2_score,mean_absolute_error"
   ]
  },
  {
   "cell_type": "code",
   "execution_count": 65,
   "id": "15da94a4",
   "metadata": {},
   "outputs": [],
   "source": [
    "from sklearn.linear_model import LinearRegression\n",
    "\n"
   ]
  },
  {
   "cell_type": "code",
   "execution_count": 66,
   "id": "7a452099",
   "metadata": {},
   "outputs": [
    {
     "data": {
      "text/html": [
       "<div>\n",
       "<style scoped>\n",
       "    .dataframe tbody tr th:only-of-type {\n",
       "        vertical-align: middle;\n",
       "    }\n",
       "\n",
       "    .dataframe tbody tr th {\n",
       "        vertical-align: top;\n",
       "    }\n",
       "\n",
       "    .dataframe thead th {\n",
       "        text-align: right;\n",
       "    }\n",
       "</style>\n",
       "<table border=\"1\" class=\"dataframe\">\n",
       "  <thead>\n",
       "    <tr style=\"text-align: right;\">\n",
       "      <th></th>\n",
       "      <th>Company</th>\n",
       "      <th>Processor Type</th>\n",
       "      <th>Operating System</th>\n",
       "      <th>RAM Size</th>\n",
       "      <th>RAM Type</th>\n",
       "      <th>Disc Size</th>\n",
       "      <th>Disc Type</th>\n",
       "    </tr>\n",
       "  </thead>\n",
       "  <tbody>\n",
       "    <tr>\n",
       "      <th>0</th>\n",
       "      <td>Lenovo</td>\n",
       "      <td>Intel</td>\n",
       "      <td>Windows 11</td>\n",
       "      <td>8GB</td>\n",
       "      <td>DDR4</td>\n",
       "      <td>256GB</td>\n",
       "      <td>SSD</td>\n",
       "    </tr>\n",
       "  </tbody>\n",
       "</table>\n",
       "</div>"
      ],
      "text/plain": [
       "  Company Processor Type Operating System RAM Size RAM Type Disc Size  \\\n",
       "0  Lenovo          Intel       Windows 11      8GB     DDR4     256GB   \n",
       "\n",
       "  Disc Type  \n",
       "0       SSD  "
      ]
     },
     "execution_count": 66,
     "metadata": {},
     "output_type": "execute_result"
    }
   ],
   "source": [
    "X.head(1)"
   ]
  },
  {
   "cell_type": "code",
   "execution_count": 67,
   "id": "541f9b25",
   "metadata": {},
   "outputs": [
    {
     "name": "stdout",
     "output_type": "stream",
     "text": [
      "R2 score 0.9193571282581624\n",
      "MAE 0.13518121777778266\n"
     ]
    }
   ],
   "source": [
    "#Linear regression\n",
    "\n",
    "step1 = ColumnTransformer(transformers=[\n",
    "    ('col_tnf',OneHotEncoder(sparse_output=False,drop='first'),[0,1,2,3,4,5,6])\n",
    "],remainder='passthrough')\n",
    "\n",
    "step2 = LinearRegression()\n",
    "\n",
    "pipe = Pipeline([\n",
    "    ('step1',step1),\n",
    "    ('step2',step2)\n",
    "])\n",
    "\n",
    "pipe.fit(X_train,y_train)\n",
    "\n",
    "y_pred = pipe.predict(X_test)\n",
    "\n",
    "print('R2 score',r2_score(y_test,y_pred))\n",
    "print('MAE',mean_absolute_error(y_test,y_pred))"
   ]
  },
  {
   "cell_type": "markdown",
   "id": "b78d2818",
   "metadata": {},
   "source": [
    "# Exporting model"
   ]
  },
  {
   "cell_type": "code",
   "execution_count": 68,
   "id": "8f2c2df4",
   "metadata": {},
   "outputs": [],
   "source": [
    "import pickle"
   ]
  },
  {
   "cell_type": "code",
   "execution_count": 69,
   "id": "161e71ba",
   "metadata": {},
   "outputs": [],
   "source": [
    "pickle.dump(df,open(\"df.pkl\",'wb'))\n",
    "# pipe object\n",
    "pickle.dump(pipe,open(\"pipe.pkl\",'wb'))"
   ]
  },
  {
   "cell_type": "markdown",
   "id": "dda51f45",
   "metadata": {},
   "source": [
    "# ALL DONE!!!  Now Open App.py file in streamlit "
   ]
  },
  {
   "cell_type": "code",
   "execution_count": null,
   "id": "0c044180",
   "metadata": {},
   "outputs": [],
   "source": []
  }
 ],
 "metadata": {
  "kernelspec": {
   "display_name": "Python 3 (ipykernel)",
   "language": "python",
   "name": "python3"
  },
  "language_info": {
   "codemirror_mode": {
    "name": "ipython",
    "version": 3
   },
   "file_extension": ".py",
   "mimetype": "text/x-python",
   "name": "python",
   "nbconvert_exporter": "python",
   "pygments_lexer": "ipython3",
   "version": "3.11.2"
  }
 },
 "nbformat": 4,
 "nbformat_minor": 5
}
